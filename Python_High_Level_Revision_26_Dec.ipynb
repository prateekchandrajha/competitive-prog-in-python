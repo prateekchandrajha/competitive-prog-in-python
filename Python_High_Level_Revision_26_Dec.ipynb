{
  "nbformat": 4,
  "nbformat_minor": 0,
  "metadata": {
    "colab": {
      "name": "Python-High-Level-Revision-26-Dec.ipynb",
      "provenance": [],
      "collapsed_sections": [],
      "authorship_tag": "ABX9TyMXAEohnNN3iWbkXXEvQPkv",
      "include_colab_link": true
    },
    "kernelspec": {
      "name": "python3",
      "display_name": "Python 3"
    }
  },
  "cells": [
    {
      "cell_type": "markdown",
      "metadata": {
        "id": "view-in-github",
        "colab_type": "text"
      },
      "source": [
        "<a href=\"https://colab.research.google.com/github/prateekchandrajha/competitive-prog-in-python/blob/main/Python_High_Level_Revision_26_Dec.ipynb\" target=\"_parent\"><img src=\"https://colab.research.google.com/assets/colab-badge.svg\" alt=\"Open In Colab\"/></a>"
      ]
    },
    {
      "cell_type": "markdown",
      "metadata": {
        "id": "75MIqyR-gJcV"
      },
      "source": [
        "To access the digits of a specific integer given its decimal representation, it can be first transformed into a string, and then the characters of the string can be\r\n",
        "accessed. However, in contrast with languages such as C, it is not possible to directly\r\n",
        "modify a character of a string: strings are immutable. It is first necessary to convert to\r\n",
        "a list representation of the characters.\r\n",
        "\r\n",
        "Principal data structures in Python: dictionaries, sets, lists and n-tuples.\r\n",
        "\r\n",
        "Once again, there are functions dict, set, list and tuple that allow the conversion of\r\n",
        "an object into one of these structures.\r\n"
      ]
    },
    {
      "cell_type": "code",
      "metadata": {
        "colab": {
          "base_uri": "https://localhost:8080/"
        },
        "id": "xpBUsBK5gAAZ",
        "outputId": "77e98254-62fc-4fda-edaa-288bcb898fd6"
      },
      "source": [
        "# string to list\r\n",
        "s = \"what a lovely day\"\r\n",
        "l = list(s)\r\n",
        "l"
      ],
      "execution_count": 1,
      "outputs": [
        {
          "output_type": "execute_result",
          "data": {
            "text/plain": [
              "['w',\n",
              " 'h',\n",
              " 'a',\n",
              " 't',\n",
              " ' ',\n",
              " 'a',\n",
              " ' ',\n",
              " 'l',\n",
              " 'o',\n",
              " 'v',\n",
              " 'e',\n",
              " 'l',\n",
              " 'y',\n",
              " ' ',\n",
              " 'd',\n",
              " 'a',\n",
              " 'y']"
            ]
          },
          "metadata": {
            "tags": []
          },
          "execution_count": 1
        }
      ]
    },
    {
      "cell_type": "code",
      "metadata": {
        "colab": {
          "base_uri": "https://localhost:8080/"
        },
        "id": "ac4c-l_fgxxf",
        "outputId": "d167d683-d233-47e5-e172-2436625ee52c"
      },
      "source": [
        "del(l[4]) # deleted the 4th element of the list but we couln't have done this for a string which is immutable in Python\r\n",
        "l"
      ],
      "execution_count": 2,
      "outputs": [
        {
          "output_type": "execute_result",
          "data": {
            "text/plain": [
              "['w',\n",
              " 'h',\n",
              " 'a',\n",
              " 't',\n",
              " 'a',\n",
              " ' ',\n",
              " 'l',\n",
              " 'o',\n",
              " 'v',\n",
              " 'e',\n",
              " 'l',\n",
              " 'y',\n",
              " ' ',\n",
              " 'd',\n",
              " 'a',\n",
              " 'y']"
            ]
          },
          "metadata": {
            "tags": []
          },
          "execution_count": 2
        }
      ]
    },
    {
      "cell_type": "code",
      "metadata": {
        "colab": {
          "base_uri": "https://localhost:8080/",
          "height": 35
        },
        "id": "bliy8h9yg_Os",
        "outputId": "2adb60fa-46c1-46c6-aa45-305653ee5377"
      },
      "source": [
        "new_s = ''.join(l)\r\n",
        "new_s # so now we have our modified string"
      ],
      "execution_count": 4,
      "outputs": [
        {
          "output_type": "execute_result",
          "data": {
            "application/vnd.google.colaboratory.intrinsic+json": {
              "type": "string"
            },
            "text/plain": [
              "'whata lovely day'"
            ]
          },
          "metadata": {
            "tags": []
          },
          "execution_count": 4
        }
      ]
    },
    {
      "cell_type": "code",
      "metadata": {
        "colab": {
          "base_uri": "https://localhost:8080/",
          "height": 35
        },
        "id": "4j8e58DHhVNa",
        "outputId": "04326795-1b24-4602-9c91-3b2cdc5db8a6"
      },
      "source": [
        "'-'.join(['a','b','c'])"
      ],
      "execution_count": 6,
      "outputs": [
        {
          "output_type": "execute_result",
          "data": {
            "application/vnd.google.colaboratory.intrinsic+json": {
              "type": "string"
            },
            "text/plain": [
              "'a-b-c'"
            ]
          },
          "metadata": {
            "tags": []
          },
          "execution_count": 6
        }
      ]
    },
    {
      "cell_type": "markdown",
      "metadata": {
        "id": "lh4hra67hx2I"
      },
      "source": [
        "Note that lists in Python are not linked lists of cells, each with a pointer to its successor\r\n",
        "in the list, as is the case in many other languages. Instead, lists are arrays of elements\r\n",
        "that can be accessed and modified using their index into the array.\r\n",
        "\r\n",
        " The last element can also be accessed with\r\n",
        "the index −1, the second last with −2 and so on."
      ]
    },
    {
      "cell_type": "code",
      "metadata": {
        "colab": {
          "base_uri": "https://localhost:8080/",
          "height": 35
        },
        "id": "orHYZWythkYB",
        "outputId": "4c4de0c8-388a-4d2e-b85a-12f5af0c78e4"
      },
      "source": [
        "# generating reverse better remember this!\r\n",
        "# reversing the string \"whata lovely day\" in one line, often fast and helps in creating quick checks\r\n",
        "''.join(l[::-1]) # reverses the list conversion o that string, and joins it with '' connector"
      ],
      "execution_count": 8,
      "outputs": [
        {
          "output_type": "execute_result",
          "data": {
            "application/vnd.google.colaboratory.intrinsic+json": {
              "type": "string"
            },
            "text/plain": [
              "'yad ylevol atahw'"
            ]
          },
          "metadata": {
            "tags": []
          },
          "execution_count": 8
        }
      ]
    },
    {
      "cell_type": "markdown",
      "metadata": {
        "id": "9kSSB6w3iv_4"
      },
      "source": [
        " A function has\r\n",
        "constant amortised complexity if, for several successive calls to it, the average\r\n",
        "complexity is constant, even if some of these calls take a time linear in n.\r\n",
        "\r\n",
        "sorted(L) returns a sorted copy of the list in O(n log n)\r\n",
        "\r\n",
        "L.sort() sorts L in place\r\n",
        "\r\n",
        "L.count(c) the number of occurrences of c in L"
      ]
    },
    {
      "cell_type": "code",
      "metadata": {
        "colab": {
          "base_uri": "https://localhost:8080/"
        },
        "id": "fSFIukC-hcAs",
        "outputId": "2f0b4b68-4543-4843-e984-8fe4db4170b9"
      },
      "source": [
        "c = 23\r\n",
        "l = [23, 78, 90, 23, 45, 63, 23, 87, 9, 21]\r\n",
        "l.count(c) # 23 appears 3 times in the list l, I never use it but still"
      ],
      "execution_count": 9,
      "outputs": [
        {
          "output_type": "execute_result",
          "data": {
            "text/plain": [
              "3"
            ]
          },
          "metadata": {
            "tags": []
          },
          "execution_count": 9
        }
      ]
    },
    {
      "cell_type": "markdown",
      "metadata": {
        "id": "Qe6BpQyNj3rX"
      },
      "source": [
        "A 0-tuple, empty, can be written as (), or as tuple(), no doubt more readable.\r\n",
        "The main difference with lists is that n-tuples are immutable, just like strings.\r\n",
        "This is why an n-tuple can serve as a key in a dictionary.\r\n",
        "\r\n",
        " Behind a dictionary there is a hash table,\r\n",
        "hence the complexity of the expressions x in dic, dic[x], dic[x] = 42\r\n",
        "is in practice constant time, even if the worst-case complexity is linear,\r\n",
        "a case obtained in the improbable event of all keys having the same hash\r\n",
        "value.\r\n",
        "\r\n",
        "The function enumerate allows a more compact expression of a loop where you also want to follow and use the indices:\r\n",
        "\r\n",
        "`for index, value in enumerate(L):`\r\n",
        "\r\n",
        "For a dictionary, the following loop iterates simultaneously over the keys and\r\n",
        "values:\r\n",
        "\r\n",
        "`for key, value in dic.items():`\r\n"
      ]
    },
    {
      "cell_type": "code",
      "metadata": {
        "colab": {
          "base_uri": "https://localhost:8080/"
        },
        "id": "dh-RCm7SixrZ",
        "outputId": "26fd3cf1-e83a-4dfd-af92-5c271a7e9d67"
      },
      "source": [
        "# LIST COMPREHENSIONS\r\n",
        "\r\n",
        "squared_numbers = [x ** 2 for x in range(9)]\r\n",
        "squared_numbers"
      ],
      "execution_count": 11,
      "outputs": [
        {
          "output_type": "execute_result",
          "data": {
            "text/plain": [
              "[0, 1, 4, 9, 16, 25, 36, 49, 64]"
            ]
          },
          "metadata": {
            "tags": []
          },
          "execution_count": 11
        }
      ]
    },
    {
      "cell_type": "code",
      "metadata": {
        "colab": {
          "base_uri": "https://localhost:8080/"
        },
        "id": "z2VURx6_ixtx",
        "outputId": "6f07b2fc-1c80-4e6a-f014-510b1fde3270"
      },
      "source": [
        "t = [0 for _ in range(8)] # particularly useful to initialise a list of length n\r\n",
        "t"
      ],
      "execution_count": 13,
      "outputs": [
        {
          "output_type": "execute_result",
          "data": {
            "text/plain": [
              "[0, 0, 0, 0, 0, 0, 0, 0]"
            ]
          },
          "metadata": {
            "tags": []
          },
          "execution_count": 13
        }
      ]
    },
    {
      "cell_type": "code",
      "metadata": {
        "colab": {
          "base_uri": "https://localhost:8080/"
        },
        "id": "4UqsdRg3ixwN",
        "outputId": "efe30552-f016-4ec4-8e95-c1051b202a40"
      },
      "source": [
        "my_string = \"cowboy bebop\" # DICTIONARY COMPREHENSION\r\n",
        "nb_occurrences = {letter: 0 for letter in my_string}\r\n",
        "nb_occurrences"
      ],
      "execution_count": 14,
      "outputs": [
        {
          "output_type": "execute_result",
          "data": {
            "text/plain": [
              "{' ': 0, 'b': 0, 'c': 0, 'e': 0, 'o': 0, 'p': 0, 'w': 0, 'y': 0}"
            ]
          },
          "metadata": {
            "tags": []
          },
          "execution_count": 14
        }
      ]
    },
    {
      "cell_type": "markdown",
      "metadata": {
        "id": "zdZotv3Ol4Nq"
      },
      "source": [
        "In early versions of Python, range returned a list. Nowadays, for efficiency, it\r\n",
        "returns an object known as an iterator, which produces integers one by one, if and\r\n",
        "when the for loop claims a value. Any function can serve as an iterator, as long\r\n",
        "as it can produce elements at different moments of its execution using the keyword\r\n",
        "yield. For example, the following function iterates over all pairs of elements of a\r\n",
        "given list:"
      ]
    },
    {
      "cell_type": "code",
      "metadata": {
        "id": "J0__PLSQixyq"
      },
      "source": [
        "def all_pairs(L):\r\n",
        "  n = len(L)\r\n",
        "  for i in range(n):\r\n",
        "    for j in range(i + 1, n):\r\n",
        "      yield (L[i], L[j])"
      ],
      "execution_count": 15,
      "outputs": []
    },
    {
      "cell_type": "code",
      "metadata": {
        "id": "5WpLMGBJmAlP"
      },
      "source": [
        "for pair in all_pairs(\"are we ever going to?\"):\r\n",
        "  print(pair)"
      ],
      "execution_count": null,
      "outputs": []
    },
    {
      "cell_type": "markdown",
      "metadata": {
        "id": "i2I9PwtKmsVo"
      },
      "source": [
        "Python operates on integers with arbitrary precision, thus there\r\n",
        "is no limit on their size. As a consequence, there is no integer equivalent to\r\n",
        "represent −∞ or +∞. For floating point numbers on the other hand, `float(’-\r\n",
        "inf’)` and `float(’inf’)` can be used. Beginning with Python 3.5, `math.inf` (or\r\n",
        "`from math import inf`) is equivalent to `float(’inf’)`.\r\n",
        "\r\n",
        "`bisect` Provides binary (dichotomous) search functions on a sorted list.\r\n",
        "\r\n",
        "`heapq` Provides functions to manipulate a list as a heap, thus allowing an element\r\n",
        "to be added or the smallest element removed in time logarithmic in the size of\r\n",
        "the heap"
      ]
    },
    {
      "cell_type": "code",
      "metadata": {
        "colab": {
          "base_uri": "https://localhost:8080/"
        },
        "id": "WwwIK6p4ix1I",
        "outputId": "001a991d-e128-4e5d-9e58-3003bbb1ccd7"
      },
      "source": [
        "\"12/OCT/2018\".split(\"/\") # a useful string function along with .strip and ascii_lowercase and import string module"
      ],
      "execution_count": 18,
      "outputs": [
        {
          "output_type": "execute_result",
          "data": {
            "text/plain": [
              "['12', 'OCT', '2018']"
            ]
          },
          "metadata": {
            "tags": []
          },
          "execution_count": 18
        }
      ]
    },
    {
      "cell_type": "code",
      "metadata": {
        "colab": {
          "base_uri": "https://localhost:8080/"
        },
        "id": "_C2A0502ix3h",
        "outputId": "a103677d-624d-4aae-c1cc-4bea07feded8"
      },
      "source": [
        "# Installing Try Algo\r\n",
        "\r\n",
        "!pip install tryalgo"
      ],
      "execution_count": 19,
      "outputs": [
        {
          "output_type": "stream",
          "text": [
            "Collecting tryalgo\n",
            "\u001b[?25l  Downloading https://files.pythonhosted.org/packages/5c/e9/f86463897f1c8b756c8409ad5cdd8e326e7a8780922615d96664867fd34b/tryalgo-1.3.0.tar.gz (54kB)\n",
            "\u001b[K     |████████████████████████████████| 61kB 3.2MB/s \n",
            "\u001b[?25hBuilding wheels for collected packages: tryalgo\n",
            "  Building wheel for tryalgo (setup.py) ... \u001b[?25l\u001b[?25hdone\n",
            "  Created wheel for tryalgo: filename=tryalgo-1.3.0-cp36-none-any.whl size=85370 sha256=979f26f5066abcf484f8d77ce9b4afc91a5fca57d52dcb18c6f641f75b98b426\n",
            "  Stored in directory: /root/.cache/pip/wheels/a0/39/69/716c704a591bb0fd94eb82229b1e5f9893677da21afddca9e9\n",
            "Successfully built tryalgo\n",
            "Installing collected packages: tryalgo\n",
            "Successfully installed tryalgo-1.3.0\n"
          ],
          "name": "stdout"
        }
      ]
    },
    {
      "cell_type": "code",
      "metadata": {
        "id": "Ayxj2jf-ix52"
      },
      "source": [
        "import tryalgo"
      ],
      "execution_count": 20,
      "outputs": []
    },
    {
      "cell_type": "code",
      "metadata": {
        "colab": {
          "base_uri": "https://localhost:8080/"
        },
        "id": "VB0NDnVDnvzH",
        "outputId": "1b9d0cd7-b06c-4263-d9f4-6ff8e25a5e2c"
      },
      "source": [
        "help(tryalgo)"
      ],
      "execution_count": 21,
      "outputs": [
        {
          "output_type": "stream",
          "text": [
            "Help on package tryalgo:\n",
            "\n",
            "NAME\n",
            "    tryalgo\n",
            "\n",
            "DESCRIPTION\n",
            "    Tryalgo is a python library of algorithms and data structures is implemented\n",
            "    by Christoph Dürr (CNRS, Sorbonne Université, LIP6, Paris)\n",
            "    and Jill-Jênn Vie (RIKEN Center of Advanced Intelligence Project, Tokyo)\n",
            "    It is documented in the book \"Programmation efficace, 128 Algorithmes qu'il\n",
            "    faut avoir compris et codés en Python\", editor Ellipses.\n",
            "\n",
            "PACKAGE CONTENTS\n",
            "    anagrams\n",
            "    arithm\n",
            "    arithm_expr_eval\n",
            "    arithm_expr_target\n",
            "    bellman_ford\n",
            "    bfs\n",
            "    biconnected_components\n",
            "    binary_search\n",
            "    bipartite_matching\n",
            "    bipartite_vertex_cover\n",
            "    closest_points\n",
            "    closest_values\n",
            "    convex_hull\n",
            "    dancing_links\n",
            "    dfs\n",
            "    dijkstra\n",
            "    dilworth\n",
            "    dinic\n",
            "    dist_grid\n",
            "    edmonds_karp\n",
            "    eulerian_tour\n",
            "    fast_exponentiation\n",
            "    fenwick\n",
            "    floyd_warshall\n",
            "    ford_fulkerson\n",
            "    freivalds\n",
            "    gale_shapley\n",
            "    gauss_jordan\n",
            "    graph\n",
            "    graph01\n",
            "    horn_sat\n",
            "    huffman\n",
            "    interval_cover\n",
            "    interval_tree\n",
            "    intervals_union\n",
            "    knapsack\n",
            "    knuth_morris_pratt\n",
            "    knuth_morris_pratt_border\n",
            "    kruskal\n",
            "    kuhn_munkres\n",
            "    kuhn_munkres_n4\n",
            "    laser_mirrors\n",
            "    left_right_inversions\n",
            "    levenshtein\n",
            "    longest_common_subsequence\n",
            "    longest_increasing_subsequence\n",
            "    lowest_common_ancestor\n",
            "    majority\n",
            "    manacher\n",
            "    matrix_chain_mult\n",
            "    max_interval_intersec\n",
            "    merge_ordered_lists\n",
            "    min_mean_cycle\n",
            "    next_permutation\n",
            "    our_heap\n",
            "    our_queue\n",
            "    partition_refinement\n",
            "    permutation_rank\n",
            "    polygon\n",
            "    pq_tree\n",
            "    predictive_text\n",
            "    primes\n",
            "    rabin_karp\n",
            "    range_minimum_query\n",
            "    rectangles_from_grid\n",
            "    rectangles_from_histogram\n",
            "    rectangles_from_points\n",
            "    roman_numbers\n",
            "    scalar\n",
            "    shortest_cycle\n",
            "    skip_list\n",
            "    strongly_connected_components\n",
            "    subsetsum\n",
            "    subsetsum_divide\n",
            "    sudoku\n",
            "    three_partition\n",
            "    topological_order\n",
            "    trie\n",
            "    two_sat\n",
            "    union_rectangles\n",
            "    windows_k_distinct\n",
            "\n",
            "FUNCTIONS\n",
            "    bisect_left(...)\n",
            "        bisect_left(a, x[, lo[, hi]]) -> index\n",
            "        \n",
            "        Return the index where to insert item x in list a, assuming a is sorted.\n",
            "        \n",
            "        The return value i is such that all e in a[:i] have e < x, and all e in\n",
            "        a[i:] have e >= x.  So if x already appears in the list, i points just\n",
            "        before the leftmost x already there.\n",
            "        \n",
            "        Optional args lo (default 0) and hi (default len(a)) bound the\n",
            "        slice of a to be searched.\n",
            "    \n",
            "    bisect_right(...)\n",
            "        bisect_right(a, x[, lo[, hi]]) -> index\n",
            "        \n",
            "        Return the index where to insert item x in list a, assuming a is sorted.\n",
            "        \n",
            "        The return value i is such that all e in a[:i] have e <= x, and all e in\n",
            "        a[i:] have e > x.  So if x already appears in the list, i points just\n",
            "        beyond the rightmost x already there\n",
            "        \n",
            "        Optional args lo (default 0) and hi (default len(a)) bound the\n",
            "        slice of a to be searched.\n",
            "    \n",
            "    getrecursionlimit(...)\n",
            "        getrecursionlimit()\n",
            "        \n",
            "        Return the current value of the recursion limit, the maximum depth\n",
            "        of the Python interpreter stack.  This limit prevents infinite\n",
            "        recursion from causing an overflow of the C stack and crashing Python.\n",
            "    \n",
            "    heappop(...)\n",
            "        Pop the smallest item off the heap, maintaining the heap invariant.\n",
            "    \n",
            "    heappush(...)\n",
            "        heappush(heap, item) -> None. Push item onto heap, maintaining the heap invariant.\n",
            "    \n",
            "    setrecursionlimit(...)\n",
            "        setrecursionlimit(n)\n",
            "        \n",
            "        Set the maximum depth of the Python interpreter stack to n.  This\n",
            "        limit prevents infinite recursion from causing an overflow of the C\n",
            "        stack and crashing Python.  The highest possible limit is platform-\n",
            "        dependent.\n",
            "    \n",
            "    sqrt(...)\n",
            "        sqrt(x)\n",
            "        \n",
            "        Return the square root of x.\n",
            "\n",
            "DATA\n",
            "    DOMAIN = 128\n",
            "    DOWN = 2\n",
            "    GJ_SEVERAL_SOLUTIONS = 2\n",
            "    GJ_SINGLE_SOLUTION = 1\n",
            "    GJ_ZERO_SOLUTIONS = 0\n",
            "    LEFT = 1\n",
            "    PRIME = 72057594037927931\n",
            "    RIGHT = 3\n",
            "    UP = 0\n",
            "    argv = ['/usr/local/lib/python3.6/dist-packages/ipykernel_launcher.py'...\n",
            "    ascii_letters = 'abcdefghijklmnopqrstuvwxyzABCDEFGHIJKLMNOPQRSTUVWXYZ'\n",
            "    print_function = _Feature((2, 6, 0, 'alpha', 2), (3, 0, 0, 'alpha', 0)...\n",
            "    priority = {'(': 1, ')': 2, '*': 4, '+': 3, '-': 3, '/': 4, ';': 0}\n",
            "    reflex = [[3, 1], [2, 0], [1, 3], [0, 2]]\n",
            "    roman = [['', 'I', 'II', 'III', 'IV', 'V', 'VI', 'VII', 'VIII', 'IX'],...\n",
            "    stdin = <_io.TextIOWrapper name='<stdin>' mode='r' encoding='UTF-8'>\n",
            "\n",
            "FILE\n",
            "    /usr/local/lib/python3.6/dist-packages/tryalgo/__init__.py\n",
            "\n",
            "\n"
          ],
          "name": "stdout"
        }
      ]
    },
    {
      "cell_type": "code",
      "metadata": {
        "colab": {
          "base_uri": "https://localhost:8080/"
        },
        "id": "A1BfYZS1nv1P",
        "outputId": "db50ae6a-3fa5-4f57-8ce4-a3dca09649f4"
      },
      "source": [
        "help(tryalgo.kruskal) "
      ],
      "execution_count": 22,
      "outputs": [
        {
          "output_type": "stream",
          "text": [
            "Help on function kruskal in module tryalgo.kruskal:\n",
            "\n",
            "kruskal(graph, weight)\n",
            "    Minimum spanning tree by Kruskal\n",
            "    \n",
            "    :param graph: undirected graph in listlist or listdict format\n",
            "    :param weight: in matrix format or same listdict graph\n",
            "    :returns: list of edges of the tree\n",
            "    :complexity: ``O(|E|log|E|)``\n",
            "\n"
          ],
          "name": "stdout"
        }
      ]
    },
    {
      "cell_type": "markdown",
      "metadata": {
        "id": "qYrZ_PAZodgs"
      },
      "source": [
        "Collections module - Counter - For an object c of this class, the expression c[x] will return 0 if x is not a key in c. Only modification of the value associated with x will create an entry\r\n",
        "in c, such as, for example, when executing the instruction c[x] += 1. This is\r\n",
        "thus slightly more practical than a dictionary."
      ]
    },
    {
      "cell_type": "code",
      "metadata": {
        "colab": {
          "base_uri": "https://localhost:8080/"
        },
        "id": "3vGogqE6nv3n",
        "outputId": "f3488b8f-45ee-48d9-e1f9-a1e10ac733af"
      },
      "source": [
        "from collections import Counter\r\n",
        "c = Counter()\r\n",
        "c['a'] += 1\r\n",
        "c"
      ],
      "execution_count": 23,
      "outputs": [
        {
          "output_type": "execute_result",
          "data": {
            "text/plain": [
              "Counter({'a': 1})"
            ]
          },
          "metadata": {
            "tags": []
          },
          "execution_count": 23
        }
      ]
    },
    {
      "cell_type": "code",
      "metadata": {
        "colab": {
          "base_uri": "https://localhost:8080/"
        },
        "id": "GS-gUgyinv57",
        "outputId": "b29fba76-4dd1-43d3-e758-1df821af1c6b"
      },
      "source": [
        "c = Counter('cowboy bebop')\r\n",
        "c"
      ],
      "execution_count": 25,
      "outputs": [
        {
          "output_type": "execute_result",
          "data": {
            "text/plain": [
              "Counter({' ': 1, 'b': 3, 'c': 1, 'e': 1, 'o': 3, 'p': 1, 'w': 1, 'y': 1})"
            ]
          },
          "metadata": {
            "tags": []
          },
          "execution_count": 25
        }
      ]
    },
    {
      "cell_type": "markdown",
      "metadata": {
        "id": "jpQgc3uRo98c"
      },
      "source": [
        "The collections package also provides the class deque, for double-ended\r\n",
        "queue. With this structure, elements can be added\r\n",
        "or removed either from the left (head) or from the right (tail) of the queue. This\r\n",
        "helps implement Dijkstra’s algorithm in the case where the edges have only\r\n",
        "weights 0 or 1. This package also provides the class defaultdict, which is a dictionary that\r\n",
        "assigns default values to keys that are yet in the dictionary, hence a generalisation of the class Counter."
      ]
    },
    {
      "cell_type": "code",
      "metadata": {
        "colab": {
          "base_uri": "https://localhost:8080/"
        },
        "id": "f1U4cPbHnv8D",
        "outputId": "8e363a3c-112c-4063-9d29-f5ba9bcf8afc"
      },
      "source": [
        "from collections import defaultdict\r\n",
        "g = defaultdict(list)\r\n",
        "g['paris'].append('marseille') # ’paris’ key is created on the fly\r\n",
        "g['paris'].append('lyon')\r\n",
        "g"
      ],
      "execution_count": 27,
      "outputs": [
        {
          "output_type": "execute_result",
          "data": {
            "text/plain": [
              "defaultdict(list, {'paris': ['marseille', 'lyon']})"
            ]
          },
          "metadata": {
            "tags": []
          },
          "execution_count": 27
        }
      ]
    },
    {
      "cell_type": "code",
      "metadata": {
        "colab": {
          "base_uri": "https://localhost:8080/"
        },
        "id": "pq7GDMhanv-Z",
        "outputId": "b04dcd9c-52f9-4924-ef7f-a9f0b39f17ff"
      },
      "source": [
        "g['paris']"
      ],
      "execution_count": 28,
      "outputs": [
        {
          "output_type": "execute_result",
          "data": {
            "text/plain": [
              "['marseille', 'lyon']"
            ]
          },
          "metadata": {
            "tags": []
          },
          "execution_count": 28
        }
      ]
    },
    {
      "cell_type": "markdown",
      "metadata": {
        "id": "Kd9_WJx0qECl"
      },
      "source": [
        "An error often made by beginners in Python concerns the copying of lists. In the\r\n",
        "following example, the list B is in fact just a reference to A. Thus a modification of\r\n",
        "B[0] results also in a modification of A[0].\r\n"
      ]
    },
    {
      "cell_type": "code",
      "metadata": {
        "id": "vychFKFonwAt"
      },
      "source": [
        "A = [1, 2, 3]\r\n",
        "B=A # Beware! Both variables refer to the same object"
      ],
      "execution_count": 29,
      "outputs": []
    },
    {
      "cell_type": "code",
      "metadata": {
        "colab": {
          "base_uri": "https://localhost:8080/"
        },
        "id": "2Izt75C-nwCO",
        "outputId": "3ac9bb71-cb64-4bee-fd0e-2696201e76de"
      },
      "source": [
        "id(B) == id(A)"
      ],
      "execution_count": 31,
      "outputs": [
        {
          "output_type": "execute_result",
          "data": {
            "text/plain": [
              "True"
            ]
          },
          "metadata": {
            "tags": []
          },
          "execution_count": 31
        }
      ]
    },
    {
      "cell_type": "code",
      "metadata": {
        "colab": {
          "base_uri": "https://localhost:8080/"
        },
        "id": "JrVQeD2xix8N",
        "outputId": "225f9f57-4c87-416e-b8c6-8e3d4cd2019b"
      },
      "source": [
        "# For B to be a distinct copy of A, the following syntax should be used:\r\n",
        "\r\n",
        "A = [1, 2, 3]\r\n",
        "B = A[:] # B becomes a distinct copy of A\r\n",
        "\r\n",
        "id(B) == id(A)"
      ],
      "execution_count": 32,
      "outputs": [
        {
          "output_type": "execute_result",
          "data": {
            "text/plain": [
              "False"
            ]
          },
          "metadata": {
            "tags": []
          },
          "execution_count": 32
        }
      ]
    },
    {
      "cell_type": "code",
      "metadata": {
        "id": "R9Rwg1XlqOAz"
      },
      "source": [
        "M = [[0] * 10] * 10"
      ],
      "execution_count": 33,
      "outputs": []
    },
    {
      "cell_type": "code",
      "metadata": {
        "colab": {
          "base_uri": "https://localhost:8080/"
        },
        "id": "UtfPx6WOqOC-",
        "outputId": "945de6f0-64f7-482b-b3a0-1c2db9645dc9"
      },
      "source": [
        "M"
      ],
      "execution_count": 34,
      "outputs": [
        {
          "output_type": "execute_result",
          "data": {
            "text/plain": [
              "[[0, 0, 0, 0, 0, 0, 0, 0, 0, 0],\n",
              " [0, 0, 0, 0, 0, 0, 0, 0, 0, 0],\n",
              " [0, 0, 0, 0, 0, 0, 0, 0, 0, 0],\n",
              " [0, 0, 0, 0, 0, 0, 0, 0, 0, 0],\n",
              " [0, 0, 0, 0, 0, 0, 0, 0, 0, 0],\n",
              " [0, 0, 0, 0, 0, 0, 0, 0, 0, 0],\n",
              " [0, 0, 0, 0, 0, 0, 0, 0, 0, 0],\n",
              " [0, 0, 0, 0, 0, 0, 0, 0, 0, 0],\n",
              " [0, 0, 0, 0, 0, 0, 0, 0, 0, 0],\n",
              " [0, 0, 0, 0, 0, 0, 0, 0, 0, 0]]"
            ]
          },
          "metadata": {
            "tags": []
          },
          "execution_count": 34
        }
      ]
    },
    {
      "cell_type": "code",
      "metadata": {
        "colab": {
          "base_uri": "https://localhost:8080/"
        },
        "id": "g8qEsA4bqOFp",
        "outputId": "f93c54c0-4570-4e3a-ba30-1e0e86ffe1c9"
      },
      "source": [
        "M[0][0] = 4\r\n",
        "M # Noted the Change?"
      ],
      "execution_count": 35,
      "outputs": [
        {
          "output_type": "execute_result",
          "data": {
            "text/plain": [
              "[[4, 0, 0, 0, 0, 0, 0, 0, 0, 0],\n",
              " [4, 0, 0, 0, 0, 0, 0, 0, 0, 0],\n",
              " [4, 0, 0, 0, 0, 0, 0, 0, 0, 0],\n",
              " [4, 0, 0, 0, 0, 0, 0, 0, 0, 0],\n",
              " [4, 0, 0, 0, 0, 0, 0, 0, 0, 0],\n",
              " [4, 0, 0, 0, 0, 0, 0, 0, 0, 0],\n",
              " [4, 0, 0, 0, 0, 0, 0, 0, 0, 0],\n",
              " [4, 0, 0, 0, 0, 0, 0, 0, 0, 0],\n",
              " [4, 0, 0, 0, 0, 0, 0, 0, 0, 0],\n",
              " [4, 0, 0, 0, 0, 0, 0, 0, 0, 0]]"
            ]
          },
          "metadata": {
            "tags": []
          },
          "execution_count": 35
        }
      ]
    },
    {
      "cell_type": "code",
      "metadata": {
        "id": "5uQIStOOqOH4"
      },
      "source": [
        "M1 = [[0] * 10 for _ in range(10)]\r\n",
        "M2 = [[0 for j in range(10)] for i in range(10)] # correct ways of initializing a matrix which is not open to deformation by chance"
      ],
      "execution_count": 31,
      "outputs": []
    },
    {
      "cell_type": "markdown",
      "metadata": {
        "id": "mgr6B6TasgL6"
      },
      "source": [
        "The\r\n",
        "module sys contains a function stdin.readline(), which does not suppress\r\n",
        "the end-of-line characters, but according to CMPIP author's experience it has the advantage of being\r\n",
        "four times as fast!"
      ]
    },
    {
      "cell_type": "code",
      "metadata": {
        "id": "7FT2z8nUqOMZ"
      },
      "source": [
        "import sys  # - DO NOT RUN THIS CELL!\r\n",
        "\r\n",
        "height, width = map(int, sys.stdin.readline().split()) # mapping int function to all the constitutents output by splitting of read lines2, pretty useful to read inputs"
      ],
      "execution_count": null,
      "outputs": []
    },
    {
      "cell_type": "code",
      "metadata": {
        "id": "WuDV1iviqOOj"
      },
      "source": [
        "import os  # - DO NOT RUN THIS CELL!\r\n",
        "\r\n",
        "instance = list(map(int, os.read(0, M).split()))\r\n",
        "\r\n",
        "# The parameter 0 in the function os.read means that the read is from standard input, and the constant M must be an\r\n",
        "# upper bound on the size of the file"
      ],
      "execution_count": null,
      "outputs": []
    },
    {
      "cell_type": "code",
      "metadata": {
        "id": "hvLRzap2qOQs"
      },
      "source": [
        "# Reading a graph on input - DO NOT RUN THIS CELL!\r\n",
        "\r\n",
        "from collections import defaultdict\r\n",
        "\r\n",
        "nb_edges = int(input())\r\n",
        "\r\n",
        "g = defaultdict(dict)\r\n",
        "\r\n",
        "for _ in range(nb_edges):\r\n",
        "  u, v, weight = input().split()\r\n",
        "  g[u][v] = int(weight)\r\n",
        "  # g[v][u] = int(weight) # For an undirected graph we need to include both u->v and v->u edges in our dictionary graph"
      ],
      "execution_count": 31,
      "outputs": []
    },
    {
      "cell_type": "code",
      "metadata": {
        "id": "IUv1cwZDqOS_"
      },
      "source": [
        "from random import randint # - DO NOT RUN THIS CELL!\r\n",
        "from sys import stdin\r\n",
        "\r\n",
        "def readint():\r\n",
        "  return int(stdin.readline())\r\n",
        "\r\n",
        "def readarray(typ):\r\n",
        "  return list(map(typ, stdin.readline().split()))\r\n",
        "\r\n",
        "def readmatrix(n):\r\n",
        "  M = []\r\n",
        "  for _ in range(n):\r\n",
        "    row = readarray(int)\r\n",
        "    assert len(row) == n\r\n",
        "    M.append(row)\r\n",
        "  return M\r\n",
        "\r\n",
        "def mult(M, v):\r\n",
        "  n = len(M)\r\n",
        "  return [sum(M[i][j] * v[j] for j in range(n)) for i in range(n)]\r\n",
        "\r\n",
        "def freivalds(A, B, C):\r\n",
        "  n = len(A)\r\n",
        "  x = [randint(0, 1000000) for j in range(n)]\r\n",
        "  return mult(A, mult(B, x)) == mult(C, x)\r\n",
        "\r\n",
        "\"\"\"\r\n",
        "Note the test on the variable __name__. This test is evaluated as True if the file\r\n",
        "containing this code is called directly, and as False if the file is included with the\r\n",
        "import keyword.\r\n",
        "\"\"\"\r\n",
        "\r\n",
        "if __name__ == \"__main__\":\r\n",
        "  n = readint()\r\n",
        "  A = readmatrix(n)\r\n",
        "  B = readmatrix(n)\r\n",
        "  C = readmatrix(n)\r\n",
        "  print(freivalds(A, B, C))"
      ],
      "execution_count": 31,
      "outputs": []
    },
    {
      "cell_type": "code",
      "metadata": {
        "colab": {
          "base_uri": "https://localhost:8080/"
        },
        "id": "5NIIw9QMqOVO",
        "outputId": "4c9c4f1e-322e-400b-c8ec-f53779c7a925"
      },
      "source": [
        "i_test = 1\r\n",
        "answer = 1.2142\r\n",
        "print(\"Case #%d: %.3f gigawatts!!!\" % (i_test, answer))"
      ],
      "execution_count": 40,
      "outputs": [
        {
          "output_type": "stream",
          "text": [
            "Case #1: 1.214 gigawatts!!!\n"
          ],
          "name": "stdout"
        }
      ]
    },
    {
      "cell_type": "code",
      "metadata": {
        "colab": {
          "base_uri": "https://localhost:8080/"
        },
        "id": "LLeXttqhqOXA",
        "outputId": "b124e73a-1e2a-4516-dc47-33940c4fff46"
      },
      "source": [
        "print(\"Case #{}: {:.3f} gigawatts!!!\".format(i_test, answer))"
      ],
      "execution_count": 42,
      "outputs": [
        {
          "output_type": "stream",
          "text": [
            "Case #1: 1.214 gigawatts!!!\n"
          ],
          "name": "stdout"
        }
      ]
    },
    {
      "cell_type": "code",
      "metadata": {
        "colab": {
          "base_uri": "https://localhost:8080/"
        },
        "id": "zoqZkQ0RvrUT",
        "outputId": "20985f78-2e8a-4892-9bfe-35c7d7e8562d"
      },
      "source": [
        "print(f\"Case #{i_test}: {answer:.3f} gigawatts!!!\") # these are called f-strings, or formatted string literals"
      ],
      "execution_count": 44,
      "outputs": [
        {
          "output_type": "stream",
          "text": [
            "Case #1: 1.214 gigawatts!!!\n"
          ],
          "name": "stdout"
        }
      ]
    },
    {
      "cell_type": "code",
      "metadata": {
        "colab": {
          "base_uri": "https://localhost:8080/"
        },
        "id": "Fmgzm_zLvrWc",
        "outputId": "8c82dccc-1a8e-47c4-a567-b443164e5e65"
      },
      "source": [
        "precision = 2\r\n",
        "print(f\"Case #{i_test}: {answer:.{precision}f} gigawatts!!!\")"
      ],
      "execution_count": 46,
      "outputs": [
        {
          "output_type": "stream",
          "text": [
            "Case #1: 1.21 gigawatts!!!\n"
          ],
          "name": "stdout"
        }
      ]
    },
    {
      "cell_type": "code",
      "metadata": {
        "id": "7vYE8dgAvrY3"
      },
      "source": [
        ""
      ],
      "execution_count": 42,
      "outputs": []
    },
    {
      "cell_type": "code",
      "metadata": {
        "id": "UQsSK6zkvrbD"
      },
      "source": [
        ""
      ],
      "execution_count": 42,
      "outputs": []
    },
    {
      "cell_type": "code",
      "metadata": {
        "id": "32wzI8gOvrdd"
      },
      "source": [
        ""
      ],
      "execution_count": 42,
      "outputs": []
    },
    {
      "cell_type": "code",
      "metadata": {
        "id": "NCVmTU1jvrfo"
      },
      "source": [
        ""
      ],
      "execution_count": 42,
      "outputs": []
    },
    {
      "cell_type": "code",
      "metadata": {
        "id": "sYMzt3q8vrhv"
      },
      "source": [
        ""
      ],
      "execution_count": 42,
      "outputs": []
    },
    {
      "cell_type": "code",
      "metadata": {
        "id": "l6wJ93Ctvrj3"
      },
      "source": [
        ""
      ],
      "execution_count": 42,
      "outputs": []
    },
    {
      "cell_type": "code",
      "metadata": {
        "id": "JaIfYdIjvrnN"
      },
      "source": [
        ""
      ],
      "execution_count": 42,
      "outputs": []
    },
    {
      "cell_type": "code",
      "metadata": {
        "id": "i_0YSt1Jvrps"
      },
      "source": [
        ""
      ],
      "execution_count": 42,
      "outputs": []
    },
    {
      "cell_type": "code",
      "metadata": {
        "id": "hN7tAvX2vrq5"
      },
      "source": [
        ""
      ],
      "execution_count": 42,
      "outputs": []
    },
    {
      "cell_type": "code",
      "metadata": {
        "id": "QWz-QFaxvrsm"
      },
      "source": [
        ""
      ],
      "execution_count": 42,
      "outputs": []
    },
    {
      "cell_type": "code",
      "metadata": {
        "id": "udbKt6xMvruq"
      },
      "source": [
        ""
      ],
      "execution_count": 42,
      "outputs": []
    },
    {
      "cell_type": "code",
      "metadata": {
        "id": "VnCpiQQ6vrwJ"
      },
      "source": [
        ""
      ],
      "execution_count": 42,
      "outputs": []
    },
    {
      "cell_type": "code",
      "metadata": {
        "id": "NVYPGAljvryI"
      },
      "source": [
        ""
      ],
      "execution_count": 42,
      "outputs": []
    },
    {
      "cell_type": "code",
      "metadata": {
        "id": "JWvN9tSHvrzY"
      },
      "source": [
        ""
      ],
      "execution_count": 42,
      "outputs": []
    },
    {
      "cell_type": "code",
      "metadata": {
        "id": "WcGu7mCAvr1E"
      },
      "source": [
        ""
      ],
      "execution_count": 42,
      "outputs": []
    },
    {
      "cell_type": "code",
      "metadata": {
        "id": "EkAZqQZEvr2s"
      },
      "source": [
        ""
      ],
      "execution_count": 42,
      "outputs": []
    },
    {
      "cell_type": "code",
      "metadata": {
        "id": "RL88hzxHvr4j"
      },
      "source": [
        ""
      ],
      "execution_count": 42,
      "outputs": []
    },
    {
      "cell_type": "code",
      "metadata": {
        "id": "5dJT9mhavr6b"
      },
      "source": [
        ""
      ],
      "execution_count": 42,
      "outputs": []
    },
    {
      "cell_type": "code",
      "metadata": {
        "id": "RcJJ_1Vfvr8G"
      },
      "source": [
        ""
      ],
      "execution_count": null,
      "outputs": []
    }
  ]
}